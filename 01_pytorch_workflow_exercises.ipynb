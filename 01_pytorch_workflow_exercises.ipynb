{
  "cells": [
    {
      "cell_type": "markdown",
      "metadata": {
        "colab_type": "text",
        "id": "view-in-github"
      },
      "source": [
        "<a href=\"https://colab.research.google.com/github/mrdbourke/pytorch-deep-learning/blob/main/extras/exercises/01_pytorch_workflow_exercises.ipynb\" target=\"_parent\"><img src=\"https://colab.research.google.com/assets/colab-badge.svg\" alt=\"Open In Colab\"/></a>"
      ]
    },
    {
      "cell_type": "markdown",
      "metadata": {
        "id": "N8LsPXZti9Sw"
      },
      "source": [
        "# 01. PyTorch Workflow Exercise Template\n",
        "\n",
        "The following is a template for the PyTorch workflow exercises.\n",
        "\n",
        "It's only starter code and it's your job to fill in the blanks.\n",
        "\n",
        "Because of the flexibility of PyTorch, there may be more than one way to answer the question.\n",
        "\n",
        "Don't worry about trying to be *right* just try writing code that suffices the question.\n",
        "\n",
        "You can see one form of [solutions on GitHub](https://github.com/mrdbourke/pytorch-deep-learning/tree/main/extras/solutions) (but try the exercises below yourself first!)."
      ]
    },
    {
      "cell_type": "code",
      "execution_count": 5,
      "metadata": {
        "id": "Glu2fM4dkNlx"
      },
      "outputs": [],
      "source": [
        "# Import necessary libraries\n",
        "import torch\n",
        "\n",
        "import torch.nn as nn\n",
        "\n",
        "import matplotlib.pyplot as plt\n",
        "\n",
        "import torch.optim as optim"
      ]
    },
    {
      "cell_type": "code",
      "execution_count": 6,
      "metadata": {
        "id": "LqKhXY26m31s"
      },
      "outputs": [
        {
          "name": "stdout",
          "output_type": "stream",
          "text": [
            "using device: cpu\n"
          ]
        }
      ],
      "source": [
        "# Setup device-agnostic code\n",
        "\n",
        "torch.manual_seed(47)\n",
        "\n",
        "device= torch.device(\"cuda\" if torch.cuda.is_available() else \"cpu\" )\n",
        "\n",
        "print(f\"using device: {device}\")"
      ]
    },
    {
      "cell_type": "markdown",
      "metadata": {
        "id": "g7HUhxCxjeBx"
      },
      "source": [
        "## 1. Create a straight line dataset using the linear regression formula (`weight * X + bias`).\n",
        "  * Set `weight=0.3` and `bias=0.9` there should be at least 100 datapoints total. \n",
        "  * Split the data into 80% training, 20% testing.\n",
        "  * Plot the training and testing data so it becomes visual.\n",
        "\n",
        "Your output of the below cell should look something like:\n",
        "```\n",
        "Number of X samples: 100\n",
        "Number of y samples: 100\n",
        "First 10 X & y samples:\n",
        "X: tensor([0.0000, 0.0100, 0.0200, 0.0300, 0.0400, 0.0500, 0.0600, 0.0700, 0.0800,\n",
        "        0.0900])\n",
        "y: tensor([0.9000, 0.9030, 0.9060, 0.9090, 0.9120, 0.9150, 0.9180, 0.9210, 0.9240,\n",
        "        0.9270])\n",
        "```\n",
        "\n",
        "Of course the numbers in `X` and `y` may be different but ideally they're created using the linear regression formula."
      ]
    },
    {
      "cell_type": "code",
      "execution_count": 7,
      "metadata": {
        "id": "KbDG5MV7jhvE"
      },
      "outputs": [
        {
          "name": "stdout",
          "output_type": "stream",
          "text": [
            "Number of X samples: 100\n",
            "Number of y samples: 100\n",
            "First 10 X & y samples:\n",
            "X: tensor([0.0530, 0.0499, 0.4677, 0.8757, 0.5561, 0.7984, 0.9758, 0.2482, 0.1469,\n",
            "        0.4345])\n",
            "y: tensor([0.9159, 0.9150, 1.0403, 1.1627, 1.0668, 1.1395, 1.1927, 0.9745, 0.9441,\n",
            "        1.0303])\n"
          ]
        }
      ],
      "source": [
        "# Create the data parameters\n",
        "weight =0.3\n",
        "\n",
        "bias =0.9\n",
        "\n",
        "num_parameters= (100)\n",
        "\n",
        "X= torch.rand(num_parameters)\n",
        "\n",
        "# Make X and y using linear regression feature\n",
        "\n",
        "y= weight *X + bias\n",
        "\n",
        "\n",
        "print(f\"Number of X samples: {len(X)}\")\n",
        "print(f\"Number of y samples: {len(y)}\")\n",
        "print(f\"First 10 X & y samples:\\nX: {X[:10]}\\ny: {y[:10]}\")"
      ]
    },
    {
      "cell_type": "code",
      "execution_count": 8,
      "metadata": {
        "id": "GlwtT1djkmLw"
      },
      "outputs": [
        {
          "name": "stdout",
          "output_type": "stream",
          "text": [
            "tensor([5.3048e-02, 4.9919e-02, 4.6767e-01, 8.7569e-01, 5.5607e-01, 7.9838e-01,\n",
            "        9.7576e-01, 2.4823e-01, 1.4692e-01, 4.3449e-01, 6.9878e-01, 8.8831e-01,\n",
            "        2.6383e-01, 2.6581e-01, 1.3750e-01, 4.6097e-01, 7.4394e-01, 3.5056e-02,\n",
            "        1.4224e-01, 4.0564e-01, 5.3406e-01, 5.8620e-01, 1.4691e-01, 2.9599e-01,\n",
            "        2.7384e-01, 7.3611e-01, 9.1173e-01, 2.2841e-01, 5.9055e-02, 2.1353e-01,\n",
            "        4.8523e-01, 7.5743e-01, 4.8650e-01, 8.5262e-02, 8.0155e-01, 7.4638e-01,\n",
            "        3.5573e-01, 4.0547e-01, 2.8260e-02, 4.0705e-01, 3.2965e-01, 3.1501e-01,\n",
            "        5.4133e-01, 3.4997e-01, 2.9980e-01, 4.5799e-01, 3.4092e-01, 3.9747e-01,\n",
            "        3.3840e-01, 3.7927e-01, 1.6479e-01, 6.7884e-04, 5.7458e-01, 2.7804e-01,\n",
            "        4.2036e-01, 7.6008e-01, 2.3162e-01, 2.6895e-01, 4.6869e-01, 8.7141e-01,\n",
            "        4.3764e-01, 8.0757e-01, 1.2571e-01, 3.1016e-01, 7.1412e-01, 8.3037e-01,\n",
            "        2.5298e-01, 7.9218e-01, 4.1125e-02, 4.9092e-01, 2.1753e-01, 8.4643e-01,\n",
            "        7.0600e-01, 8.4770e-01, 4.0587e-01, 5.2716e-01, 6.3690e-01, 2.9191e-01,\n",
            "        7.5940e-01, 1.8060e-01]) tensor([0.9159, 0.9150, 1.0403, 1.1627, 1.0668, 1.1395, 1.1927, 0.9745, 0.9441,\n",
            "        1.0303, 1.1096, 1.1665, 0.9792, 0.9797, 0.9413, 1.0383, 1.1232, 0.9105,\n",
            "        0.9427, 1.0217, 1.0602, 1.0759, 0.9441, 0.9888, 0.9822, 1.1208, 1.1735,\n",
            "        0.9685, 0.9177, 0.9641, 1.0456, 1.1272, 1.0459, 0.9256, 1.1405, 1.1239,\n",
            "        1.0067, 1.0216, 0.9085, 1.0221, 0.9989, 0.9945, 1.0624, 1.0050, 0.9899,\n",
            "        1.0374, 1.0023, 1.0192, 1.0015, 1.0138, 0.9494, 0.9002, 1.0724, 0.9834,\n",
            "        1.0261, 1.1280, 0.9695, 0.9807, 1.0406, 1.1614, 1.0313, 1.1423, 0.9377,\n",
            "        0.9930, 1.1142, 1.1491, 0.9759, 1.1377, 0.9123, 1.0473, 0.9653, 1.1539,\n",
            "        1.1118, 1.1543, 1.0218, 1.0581, 1.0911, 0.9876, 1.1278, 0.9542])\n",
            "tensor([0.0026, 0.0593, 0.2196, 0.6432, 0.7069, 0.1612, 0.3418, 0.4018, 0.8867,\n",
            "        0.8825, 0.6041, 0.5844, 0.8034, 0.1609, 0.0197, 0.0059, 0.2653, 0.8660,\n",
            "        0.6492, 0.3716]) tensor([0.9008, 0.9178, 0.9659, 1.0930, 1.1121, 0.9484, 1.0025, 1.0206, 1.1660,\n",
            "        1.1647, 1.0812, 1.0753, 1.1410, 0.9483, 0.9059, 0.9018, 0.9796, 1.1598,\n",
            "        1.0948, 1.0115])\n"
          ]
        }
      ],
      "source": [
        "# Split the data into training and testing\n",
        "\n",
        "split= int(0.8 * num_parameters)\n",
        "\n",
        "X_train, y_train= X[:split], y[:split]\n",
        "\n",
        "X_test, y_test = X[split:], y[split:]\n",
        "\n",
        "print(X_train, y_train)\n",
        "print(X_test, y_test)"
      ]
    },
    {
      "cell_type": "code",
      "execution_count": 9,
      "metadata": {
        "id": "29iQZFNhlYJ-"
      },
      "outputs": [
        {
          "data": {
            "text/plain": [
              "<function matplotlib.pyplot.show(close=None, block=None)>"
            ]
          },
          "execution_count": 9,
          "metadata": {},
          "output_type": "execute_result"
        },
        {
          "data": {
            "image/png": "[encoded data removed]",
            "text/plain": [
              "<Figure size 800x500 with 1 Axes>"
            ]
          },
          "metadata": {},
          "output_type": "display_data"
        }
      ],
      "source": [
        "# Plot the training and testing data \n",
        "\n",
        "plt.figure(figsize= (8,5))\n",
        "\n",
        "plt.scatter(X_train, y_train, label=\"Training Data\", color=\"blue\", alpha=0.6)\n",
        "plt.scatter(X_test, y_test, label=\"Testing Data\", color=\"red\", alpha=0.6)\n",
        "plt.xlabel(\"X\")\n",
        "plt.ylabel(\"y\")\n",
        "plt.title(\"linear regression dataset\")\n",
        "plt.legend()\n",
        "plt.show"
      ]
    },
    {
      "cell_type": "markdown",
      "metadata": {
        "id": "ImZoe3v8jif8"
      },
      "source": [
        "## 2. Build a PyTorch model by subclassing `nn.Module`. \n",
        "  * Inside should be a randomly initialized `nn.Parameter()` with `requires_grad=True`, one for `weights` and one for `bias`. \n",
        "  * Implement the `forward()` method to compute the linear regression function you used to create the dataset in 1. \n",
        "  * Once you've constructed the model, make an instance of it and check its `state_dict()`.\n",
        "  * **Note:** If you'd like to use `nn.Linear()` instead of `nn.Parameter()` you can."
      ]
    },
    {
      "cell_type": "code",
      "execution_count": 10,
      "metadata": {
        "id": "qzd__Y5rjtB8"
      },
      "outputs": [],
      "source": [
        "# Create PyTorch linear regression model by subclassing nn.Module\n",
        "\n",
        "class LinearRegressionModel(nn.Module):\n",
        "    def _init_ (self,):\n",
        "        super(LinearRegressionModel, self). _init_()\n",
        "\n",
        "        self.weight=nn.Linear(torch.rand(1, requires_grad=True))\n",
        "        self.bias = nn.Linear(torch.rand(1, requires_grad=True))\n",
        "\n",
        "\n",
        "    def forward(self, X):\n",
        "        return self.weight * X + self.bias\n"
      ]
    },
    {
      "cell_type": "code",
      "execution_count": 11,
      "metadata": {
        "id": "5LdcDnmOmyQ2"
      },
      "outputs": [
        {
          "name": "stdout",
          "output_type": "stream",
          "text": [
            "model state dict\n",
            "OrderedDict()\n",
            "[]\n"
          ]
        }
      ],
      "source": [
        "# Instantiate the model and put it to the target device\n",
        "model= LinearRegressionModel()\n",
        "\n",
        "print(\"model state dict\")\n",
        "print(model.state_dict()) \n",
        "print(list(model.parameters())) "
      ]
    },
    {
      "cell_type": "markdown",
      "metadata": {
        "id": "G6nYOrJhjtfu"
      },
      "source": [
        "## 3. Create a loss function and optimizer using `nn.L1Loss()` and `torch.optim.SGD(params, lr)` respectively. \n",
        "  * Set the learning rate of the optimizer to be 0.01 and the parameters to optimize should be the model parameters from the model you created in 2.\n",
        "  * Write a training loop to perform the appropriate training steps for 300 epochs.\n",
        "  * The training loop should test the model on the test dataset every 20 epochs."
      ]
    },
    {
      "cell_type": "code",
      "execution_count": 12,
      "metadata": {
        "id": "ltvoZ-FWjv1j"
      },
      "outputs": [],
      "source": [
        "# Create the loss function and optimizer\n",
        "\n",
        "def train_model(model, train_load,test_load,num_epochs=300):\n",
        "\n",
        "   loss_fn= nn.L1Loss()\n",
        "\n",
        "   optimizer= optim.SGD(model.parameters(), lr=0.01)\n",
        "   for epochs in range(num_epochs):\n",
        "       model.train()\n",
        "       running_loss=0.0\n",
        "\n",
        "       for input, target in train_load:\n",
        "           optimizer.zero_grad()\n",
        "           output=model(input)\n",
        "           loss=loss_fn(output,target)\n",
        "           loss.backward()\n",
        "           optimizer.step()\n",
        "           running_loss +=loss.item()\n",
        "           print(f\"epochs [{epochs +1} / {num_epochs}], Loss [{running_loss } / len {train_load :4f}] \")   \n",
        "\n",
        "           if (epochs + 1) % 20 == 0:\n",
        "              model.eval()\n",
        "              test_loss=0.0\n",
        "              with torch.no_grad():\n",
        "                    for input, targets in test_load:\n",
        "                        output=model(input)\n",
        "                        loss=loss_fn(output,target)\n",
        "                        test_loss +=loss.item()\n",
        "                        print(f\"Test loss after epochs[{epochs +1}: {test_loss} / len {train_load :4f}]\")   \n",
        "\n",
        "                        print(\"Trainning complete\")      \n",
        "\n",
        "   \n"
      ]
    },
    {
      "cell_type": "code",
      "execution_count": 10,
      "metadata": {
        "id": "xpE83NvNnkdV"
      },
      "outputs": [
        {
          "ename": "IndentationError",
          "evalue": "unindent does not match any outer indentation level (<string>, line 38)",
          "output_type": "error",
          "traceback": [
            "\u001b[0;36m  File \u001b[0;32m<string>:38\u001b[0;36m\u001b[0m\n\u001b[0;31m    if epoch % 20 == 0:\u001b[0m\n\u001b[0m                       ^\u001b[0m\n\u001b[0;31mIndentationError\u001b[0m\u001b[0;31m:\u001b[0m unindent does not match any outer indentation level\n"
          ]
        }
      ],
      "source": [
        "# Training loop\n",
        "\n",
        "Train_losses= []\n",
        "Test_losses=[]\n",
        "# Train model for 300 epochs\n",
        "epochs=300\n",
        "\n",
        "# Send data to target device\n",
        "\n",
        "model= SampleModel().to(device)\n",
        "\n",
        "for epoch in range(epochs):\n",
        "  ### Training\n",
        "    \n",
        "  # Put model in train mode\n",
        "\n",
        "    model.train()\n",
        "  # 1. Forward pass\n",
        "  \n",
        "    y_pre=model(x_train)\n",
        "  # 2. Calculate loss\n",
        "  \n",
        "    loss= loss_fn(y_pre, y_train)\n",
        "    train_losses.append(loss.item())\n",
        "\n",
        "\n",
        "  # 3. Zero gradients\n",
        "  \n",
        "    optimizer.zero_grad()\n",
        "  # 4. Backpropagation\n",
        "  \n",
        "    loss.backward()\n",
        "  # 5. Step the optimizer\n",
        "    optimizer.step()\n",
        "  \n",
        "\n",
        "  ### Perform testing every 20 epochs\n",
        "  if epoch % 20 == 0:\n",
        "\n",
        "    # Put model in evaluation mode and setup inference context \n",
        "    model.eval()\n",
        "    with torch.no_gra()\n",
        "\n",
        "      # 1. Forward pass\n",
        "        y_test_pred=model(x_test)\n",
        "        \n",
        "      # 2. Calculate test loss\n",
        "          test_loss=loss_fn(y_test_pred, y_test)\n",
        "         test_losses.append(test_loss.item())\n",
        "      # Print out what's happening\n",
        "      print(f\"Epoch: {epoch} | Train loss: {loss:.3f} | Test loss: {test_loss:.3f}\")"
      ]
    },
    {
      "cell_type": "markdown",
      "metadata": {
        "id": "x4j4TM18jwa7"
      },
      "source": [
        "## 4. Make predictions with the trained model on the test data.\n",
        "  * Visualize these predictions against the original training and testing data (**note:** you may need to make sure the predictions are *not* on the GPU if you want to use non-CUDA-enabled libraries such as matplotlib to plot)."
      ]
    },
    {
      "cell_type": "code",
      "execution_count": 13,
      "metadata": {
        "id": "bbMPK5Qjjyx_"
      },
      "outputs": [],
      "source": [
        "# Make predictions with the model\n",
        "def visualize_predictions(model, train_loader, test_loader):\n",
        "    model.eval()\n",
        "    train_preds, train_targets = [], []\n",
        "    test_preds, test_targets = [], []\n",
        "    \n",
        "    with torch.no_grad():\n",
        "        for inputs, targets in train_loader:\n",
        "            outputs = model(inputs).cpu().numpy()\n",
        "            train_preds.extend(outputs)\n",
        "            train_targets.extend(targets.cpu().numpy())\n",
        "        \n",
        "        for inputs, targets in test_loader:\n",
        "            outputs = model(inputs).cpu().numpy()\n",
        "            test_preds.extend(outputs)\n",
        "            test_targets.extend(targets.cpu().numpy())"
      ]
    },
    {
      "cell_type": "code",
      "execution_count": 14,
      "metadata": {
        "id": "K3BdmQaDpFo8"
      },
      "outputs": [
        {
          "ename": "NameError",
          "evalue": "name 'train_targets' is not defined",
          "output_type": "error",
          "traceback": [
            "\u001b[0;31m---------------------------------------------------------------------------\u001b[0m",
            "\u001b[0;31mNameError\u001b[0m                                 Traceback (most recent call last)",
            "Cell \u001b[0;32mIn[14], line 3\u001b[0m\n\u001b[1;32m      1\u001b[0m \u001b[38;5;66;03m# Plot the predictions (these may need to be on a specific device)\u001b[39;00m\n\u001b[1;32m      2\u001b[0m plt\u001b[38;5;241m.\u001b[39mfigure(figsize\u001b[38;5;241m=\u001b[39m(\u001b[38;5;241m10\u001b[39m, \u001b[38;5;241m5\u001b[39m))\n\u001b[0;32m----> 3\u001b[0m plt\u001b[38;5;241m.\u001b[39mscatter(\u001b[43mtrain_targets\u001b[49m, train_preds, label\u001b[38;5;241m=\u001b[39m\u001b[38;5;124m'\u001b[39m\u001b[38;5;124mTrain Data\u001b[39m\u001b[38;5;124m'\u001b[39m, alpha\u001b[38;5;241m=\u001b[39m\u001b[38;5;241m0.5\u001b[39m, color\u001b[38;5;241m=\u001b[39m\u001b[38;5;124m'\u001b[39m\u001b[38;5;124mblue\u001b[39m\u001b[38;5;124m'\u001b[39m)\n\u001b[1;32m      4\u001b[0m plt\u001b[38;5;241m.\u001b[39mscatter(test_targets, test_preds, label\u001b[38;5;241m=\u001b[39m\u001b[38;5;124m'\u001b[39m\u001b[38;5;124mTest Data\u001b[39m\u001b[38;5;124m'\u001b[39m, alpha\u001b[38;5;241m=\u001b[39m\u001b[38;5;241m0.5\u001b[39m, color\u001b[38;5;241m=\u001b[39m\u001b[38;5;124m'\u001b[39m\u001b[38;5;124mred\u001b[39m\u001b[38;5;124m'\u001b[39m)\n\u001b[1;32m      5\u001b[0m plt\u001b[38;5;241m.\u001b[39mxlabel(\u001b[38;5;124m'\u001b[39m\u001b[38;5;124mTrue Values\u001b[39m\u001b[38;5;124m'\u001b[39m)\n",
            "\u001b[0;31mNameError\u001b[0m: name 'train_targets' is not defined"
          ]
        },
        {
          "data": {
            "text/plain": [
              "<Figure size 1000x500 with 0 Axes>"
            ]
          },
          "metadata": {},
          "output_type": "display_data"
        }
      ],
      "source": [
        "# Plot the predictions (these may need to be on a specific device)\n",
        "plt.figure(figsize=(10, 5))\n",
        "plt.scatter(train_targets, train_preds, label='Train Data', alpha=0.5, color='blue')\n",
        "plt.scatter(test_targets, test_preds, label='Test Data', alpha=0.5, color='red')\n",
        "plt.xlabel('True Values')\n",
        "plt.ylabel('Predictions')\n",
        "plt.legend()\n",
        "plt.title('Model Predictions vs True Values')\n",
        "plt.show()\n"
      ]
    },
    {
      "cell_type": "markdown",
      "metadata": {
        "id": "s2OnlMWKjzX8"
      },
      "source": [
        "## 5. Save your trained model's `state_dict()` to file.\n",
        "  * Create a new instance of your model class you made in 2. and load in the `state_dict()` you just saved to it.\n",
        "  * Perform predictions on your test data with the loaded model and confirm they match the original model predictions from 4."
      ]
    },
    {
      "cell_type": "code",
      "execution_count": 16,
      "metadata": {
        "id": "hgxhgD14qr-i"
      },
      "outputs": [
        {
          "name": "stdout",
          "output_type": "stream",
          "text": [
            "Model state_dict saved to linear_regression_model.pth\n"
          ]
        },
        {
          "name": "stderr",
          "output_type": "stream",
          "text": [
            "/tmp/ipykernel_1260/1416539459.py:13: FutureWarning: You are using `torch.load` with `weights_only=False` (the current default value), which uses the default pickle module implicitly. It is possible to construct malicious pickle data which will execute arbitrary code during unpickling (See https://github.com/pytorch/pytorch/blob/main/SECURITY.md#untrusted-models for more details). In a future release, the default value for `weights_only` will be flipped to `True`. This limits the functions that could be executed during unpickling. Arbitrary objects will no longer be allowed to be loaded via this mode unless they are explicitly allowlisted by the user via `torch.serialization.add_safe_globals`. We recommend you start setting `weights_only=True` for any use case where you don't have full control of the loaded file. Please open an issue on GitHub for any issues related to this experimental feature.\n",
            "  loaded_model.load_state_dict(torch.load(model_path))\n"
          ]
        },
        {
          "data": {
            "text/plain": [
              "<All keys matched successfully>"
            ]
          },
          "execution_count": 16,
          "metadata": {},
          "output_type": "execute_result"
        }
      ],
      "source": [
        "from pathlib import Path\n",
        "\n",
        "# 1. Create models directory \n",
        "\n",
        "model_path = \"linear_regression_model.pth\"\n",
        "\n",
        "# 2. Create model save path \n",
        "torch.save(model.state_dict(), model_path)\n",
        "print(f\"Model state_dict saved to {model_path}\")\n",
        "\n",
        "# 3. Save the model state dict\n",
        "loaded_model = LinearRegressionModel().to(device)\n",
        "loaded_model.load_state_dict(torch.load(model_path))"
      ]
    },
    {
      "cell_type": "code",
      "execution_count": 17,
      "metadata": {
        "id": "P9vTgiLRrJ7T"
      },
      "outputs": [
        {
          "name": "stderr",
          "output_type": "stream",
          "text": [
            "/tmp/ipykernel_1260/619180969.py:2: FutureWarning: You are using `torch.load` with `weights_only=False` (the current default value), which uses the default pickle module implicitly. It is possible to construct malicious pickle data which will execute arbitrary code during unpickling (See https://github.com/pytorch/pytorch/blob/main/SECURITY.md#untrusted-models for more details). In a future release, the default value for `weights_only` will be flipped to `True`. This limits the functions that could be executed during unpickling. Arbitrary objects will no longer be allowed to be loaded via this mode unless they are explicitly allowlisted by the user via `torch.serialization.add_safe_globals`. We recommend you start setting `weights_only=True` for any use case where you don't have full control of the loaded file. Please open an issue on GitHub for any issues related to this experimental feature.\n",
            "  loaded_model.load_state_dict(torch.load(model_path))\n"
          ]
        },
        {
          "data": {
            "text/plain": [
              "<All keys matched successfully>"
            ]
          },
          "execution_count": 17,
          "metadata": {},
          "output_type": "execute_result"
        }
      ],
      "source": [
        "# Create new instance of model and load saved state dict (make sure to put it on the target device)\n",
        "loaded_model.load_state_dict(torch.load(model_path))"
      ]
    },
    {
      "cell_type": "code",
      "execution_count": 18,
      "metadata": {
        "id": "8UGX3VebrVtI"
      },
      "outputs": [
        {
          "ename": "AttributeError",
          "evalue": "'LinearRegressionModel' object has no attribute 'weight'",
          "output_type": "error",
          "traceback": [
            "\u001b[0;31m---------------------------------------------------------------------------\u001b[0m",
            "\u001b[0;31mAttributeError\u001b[0m                            Traceback (most recent call last)",
            "Cell \u001b[0;32mIn[18], line 3\u001b[0m\n\u001b[1;32m      1\u001b[0m \u001b[38;5;66;03m# Make predictions with loaded model and compare them to the previous\u001b[39;00m\n\u001b[1;32m      2\u001b[0m \u001b[38;5;28;01mwith\u001b[39;00m torch\u001b[38;5;241m.\u001b[39mno_grad():\n\u001b[0;32m----> 3\u001b[0m     y_test_pred_loaded \u001b[38;5;241m=\u001b[39m \u001b[43mloaded_model\u001b[49m\u001b[43m(\u001b[49m\u001b[43mX_test\u001b[49m\u001b[43m)\u001b[49m  \u001b[38;5;66;03m# Predictions with loaded model\u001b[39;00m\n\u001b[1;32m      5\u001b[0m \u001b[38;5;66;03m# Check if predictions match\u001b[39;00m\n\u001b[1;32m      6\u001b[0m match \u001b[38;5;241m=\u001b[39m torch\u001b[38;5;241m.\u001b[39mallclose(y_test_pred, y_test_pred_loaded, atol\u001b[38;5;241m=\u001b[39m\u001b[38;5;241m1e-6\u001b[39m)\n",
            "File \u001b[0;32m~/.local/lib/python3.12/site-packages/torch/nn/modules/module.py:1736\u001b[0m, in \u001b[0;36mModule._wrapped_call_impl\u001b[0;34m(self, *args, **kwargs)\u001b[0m\n\u001b[1;32m   1734\u001b[0m     \u001b[38;5;28;01mreturn\u001b[39;00m \u001b[38;5;28mself\u001b[39m\u001b[38;5;241m.\u001b[39m_compiled_call_impl(\u001b[38;5;241m*\u001b[39margs, \u001b[38;5;241m*\u001b[39m\u001b[38;5;241m*\u001b[39mkwargs)  \u001b[38;5;66;03m# type: ignore[misc]\u001b[39;00m\n\u001b[1;32m   1735\u001b[0m \u001b[38;5;28;01melse\u001b[39;00m:\n\u001b[0;32m-> 1736\u001b[0m     \u001b[38;5;28;01mreturn\u001b[39;00m \u001b[38;5;28;43mself\u001b[39;49m\u001b[38;5;241;43m.\u001b[39;49m\u001b[43m_call_impl\u001b[49m\u001b[43m(\u001b[49m\u001b[38;5;241;43m*\u001b[39;49m\u001b[43margs\u001b[49m\u001b[43m,\u001b[49m\u001b[43m \u001b[49m\u001b[38;5;241;43m*\u001b[39;49m\u001b[38;5;241;43m*\u001b[39;49m\u001b[43mkwargs\u001b[49m\u001b[43m)\u001b[49m\n",
            "File \u001b[0;32m~/.local/lib/python3.12/site-packages/torch/nn/modules/module.py:1747\u001b[0m, in \u001b[0;36mModule._call_impl\u001b[0;34m(self, *args, **kwargs)\u001b[0m\n\u001b[1;32m   1742\u001b[0m \u001b[38;5;66;03m# If we don't have any hooks, we want to skip the rest of the logic in\u001b[39;00m\n\u001b[1;32m   1743\u001b[0m \u001b[38;5;66;03m# this function, and just call forward.\u001b[39;00m\n\u001b[1;32m   1744\u001b[0m \u001b[38;5;28;01mif\u001b[39;00m \u001b[38;5;129;01mnot\u001b[39;00m (\u001b[38;5;28mself\u001b[39m\u001b[38;5;241m.\u001b[39m_backward_hooks \u001b[38;5;129;01mor\u001b[39;00m \u001b[38;5;28mself\u001b[39m\u001b[38;5;241m.\u001b[39m_backward_pre_hooks \u001b[38;5;129;01mor\u001b[39;00m \u001b[38;5;28mself\u001b[39m\u001b[38;5;241m.\u001b[39m_forward_hooks \u001b[38;5;129;01mor\u001b[39;00m \u001b[38;5;28mself\u001b[39m\u001b[38;5;241m.\u001b[39m_forward_pre_hooks\n\u001b[1;32m   1745\u001b[0m         \u001b[38;5;129;01mor\u001b[39;00m _global_backward_pre_hooks \u001b[38;5;129;01mor\u001b[39;00m _global_backward_hooks\n\u001b[1;32m   1746\u001b[0m         \u001b[38;5;129;01mor\u001b[39;00m _global_forward_hooks \u001b[38;5;129;01mor\u001b[39;00m _global_forward_pre_hooks):\n\u001b[0;32m-> 1747\u001b[0m     \u001b[38;5;28;01mreturn\u001b[39;00m \u001b[43mforward_call\u001b[49m\u001b[43m(\u001b[49m\u001b[38;5;241;43m*\u001b[39;49m\u001b[43margs\u001b[49m\u001b[43m,\u001b[49m\u001b[43m \u001b[49m\u001b[38;5;241;43m*\u001b[39;49m\u001b[38;5;241;43m*\u001b[39;49m\u001b[43mkwargs\u001b[49m\u001b[43m)\u001b[49m\n\u001b[1;32m   1749\u001b[0m result \u001b[38;5;241m=\u001b[39m \u001b[38;5;28;01mNone\u001b[39;00m\n\u001b[1;32m   1750\u001b[0m called_always_called_hooks \u001b[38;5;241m=\u001b[39m \u001b[38;5;28mset\u001b[39m()\n",
            "Cell \u001b[0;32mIn[10], line 12\u001b[0m, in \u001b[0;36mLinearRegressionModel.forward\u001b[0;34m(self, X)\u001b[0m\n\u001b[1;32m     11\u001b[0m \u001b[38;5;28;01mdef\u001b[39;00m \u001b[38;5;21mforward\u001b[39m(\u001b[38;5;28mself\u001b[39m, X):\n\u001b[0;32m---> 12\u001b[0m     \u001b[38;5;28;01mreturn\u001b[39;00m \u001b[38;5;28;43mself\u001b[39;49m\u001b[38;5;241;43m.\u001b[39;49m\u001b[43mweight\u001b[49m \u001b[38;5;241m*\u001b[39m X \u001b[38;5;241m+\u001b[39m \u001b[38;5;28mself\u001b[39m\u001b[38;5;241m.\u001b[39mbias\n",
            "File \u001b[0;32m~/.local/lib/python3.12/site-packages/torch/nn/modules/module.py:1931\u001b[0m, in \u001b[0;36mModule.__getattr__\u001b[0;34m(self, name)\u001b[0m\n\u001b[1;32m   1929\u001b[0m     \u001b[38;5;28;01mif\u001b[39;00m name \u001b[38;5;129;01min\u001b[39;00m modules:\n\u001b[1;32m   1930\u001b[0m         \u001b[38;5;28;01mreturn\u001b[39;00m modules[name]\n\u001b[0;32m-> 1931\u001b[0m \u001b[38;5;28;01mraise\u001b[39;00m \u001b[38;5;167;01mAttributeError\u001b[39;00m(\n\u001b[1;32m   1932\u001b[0m     \u001b[38;5;124mf\u001b[39m\u001b[38;5;124m\"\u001b[39m\u001b[38;5;124m'\u001b[39m\u001b[38;5;132;01m{\u001b[39;00m\u001b[38;5;28mtype\u001b[39m(\u001b[38;5;28mself\u001b[39m)\u001b[38;5;241m.\u001b[39m\u001b[38;5;18m__name__\u001b[39m\u001b[38;5;132;01m}\u001b[39;00m\u001b[38;5;124m'\u001b[39m\u001b[38;5;124m object has no attribute \u001b[39m\u001b[38;5;124m'\u001b[39m\u001b[38;5;132;01m{\u001b[39;00mname\u001b[38;5;132;01m}\u001b[39;00m\u001b[38;5;124m'\u001b[39m\u001b[38;5;124m\"\u001b[39m\n\u001b[1;32m   1933\u001b[0m )\n",
            "\u001b[0;31mAttributeError\u001b[0m: 'LinearRegressionModel' object has no attribute 'weight'"
          ]
        }
      ],
      "source": [
        "# Make predictions with loaded model and compare them to the previous\n",
        "with torch.no_grad():\n",
        "    y_test_pred_loaded = loaded_model(X_test)  # Predictions with loaded model\n",
        "\n",
        "# Check if predictions match\n",
        "match = torch.allclose(y_test_pred, y_test_pred_loaded, atol=1e-6)\n",
        "print(f\"Do the predictions match? {match}\")"
      ]
    }
  ],
  "metadata": {
    "accelerator": "GPU",
    "colab": {
      "authorship_tag": "ABX9TyNYzatJtFkfUqqdiR6rYwVL",
      "collapsed_sections": [],
      "include_colab_link": true,
      "name": "01_pytorch_workflow_exercises.ipynb",
      "provenance": []
    },
    "kernelspec": {
      "display_name": "Python 3 (ipykernel)",
      "language": "python",
      "name": "python3"
    }
  },
  "nbformat": 4,
  "nbformat_minor": 0
}
